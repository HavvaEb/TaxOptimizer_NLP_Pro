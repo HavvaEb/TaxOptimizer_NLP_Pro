{
 "cells": [
  {
   "cell_type": "code",
   "execution_count": null,
   "metadata": {},
   "outputs": [],
   "source": [
    "user_input = []\n",
    "translate = {}\n",
    "for line in open('dictionary.txt'):\n",
    "        english, aboriginal = line.split(',')\n",
    "        translate[english] = aboriginal\n",
    "\n",
    "while user_input != \"\":\n",
    "  user_input = input(\"English: \")\n",
    "  if user_input == \"\":\n",
    "    break\n",
    "  else:\n",
    "    tempList = []\n",
    "    for word in user_input.split():\n",
    "        tempList.append(translate[word])\n",
    "    A = (\"\".join(tempList))\n",
    "    B = (A.replace('\\n',' ')) \n",
    "    B = B.rstrip()\n",
    "    print(B)"
   ]
  }
 ],
 "metadata": {
  "language_info": {
   "name": "python"
  },
  "orig_nbformat": 4
 },
 "nbformat": 4,
 "nbformat_minor": 2
}
