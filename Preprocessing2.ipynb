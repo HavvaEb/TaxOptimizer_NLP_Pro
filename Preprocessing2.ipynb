{
 "cells": [
  {
   "cell_type": "code",
   "execution_count": 1,
   "metadata": {},
   "outputs": [],
   "source": [
    "import re\n",
    "import string\n",
    "import glob\n",
    "\n",
    "from gensim import utils\n",
    "from gensim.parsing.porter import PorterStemmer"
   ]
  },
  {
   "cell_type": "code",
   "execution_count": 2,
   "metadata": {},
   "outputs": [],
   "source": [
    "text = \"Dienst Reglementering. - Akkoord in onderling overleg tussen de bevoegde autoriteiten van Duitsland en Belgi� met betrekking tot de situatie van de grensarbeiders die van thuis uit werken in de context van de COVID-19-pandemie 1. Inleiding Overeenkomstig artikel 25, paragraaf 3 van de op 11 april 1967 ondertekende Overeenkomst tussen de Bondsrepubliek Duitsland en het Koninkrijk Belgi� tot voorkoming van dubbele belasting en tot regeling van sommige andere aangelegenheden inzake belastingen van inkomen en van vermogen, met inbegrip van de ondernemingsbelasting en de grondbelastingen, zoals gewijzigd door het Protocol ondertekend op 5 november 2002, (de 'Overeenkomst'), trachten de bevoegde autoriteiten van Duitsland en Belgi� moeilijkheden of twijfelpunten die mochten rijzen met betrekking tot de toepassing van de Overeenkomst in onderlinge overeenstemming op te lossen. Aangezien de coronavirus ('COVID-19')-pandemie een geval van overmacht is en aangezien de maatregelen die genomen zijn als antwoord op de pandemie aanleiding kunnen geven tot grote onzekerheid inzake de fiscale situatie van grensarbeiders, delen de bevoegde autoriteiten het standpunt dat een akkoord in onderling overleg zoals bedoeld in artikel 25, paragraaf 3 van de Overeenkomst gewettigd is. In deze context hebben de bevoegde autoriteiten van Duitsland en Belgi� overeenstemming bereikt over de toepassing van artikel 15 van de Overeenkomst voor situaties waarin een grensarbeider wegens maatregelen betreffende COVID-19 of daarmee verband houdende maatregelen van thuis uit werkt. 2. Thuiswerkdagen Voor de toepassing van artikel 15, paragraaf 1 van de Overeenkomst (Afhankelijke beroepen) mogen werkdagen waarvoor bezoldigingen zijn ontvangen en waarop de dienstbetrekking thuis werd uitgeoefend ('thuiswerkdagen') uitsluitend wegens de maatregelen die door de Duitse of Belgische regering, of door de lokale besturen, werden getroffen om de COVID-19-pandemie te bestrijden, geacht worden te zijn doorgebracht in de overeenkomstsluitende Staat waar de grensarbeider de dienstbetrekking zou hebben uitgeoefend zonder de maatregelen ter bestrijding van de COVID-19-pandemie. Deze fictie kan niet worden toegepast op werkdagen die de grensarbeider, los van deze maatregelen, thuiswerkend of in een derde Staat zou hebben doorgebracht. Ze kan in het bijzonder niet worden toegepast door grensarbeiders die, overeenkomstig hun arbeidsovereenkomst, over het algemeen hun dienstbetrekking thuis uitoefenen. Grensarbeiders die gebruikmaken van de fictie zijn verplicht deze fictie op consistente wijze in beide overeenkomstsluitende Staten toe te passen en de nodige gegevens bij te houden (i.e. een schriftelijke bevestiging van de werkgever welk deel van de thuiswerkdagen uitsluitend wegens de maatregelen in verband met de COVID-19-pandemie thuiswerkend werd doorgebracht). Deze fictie kan slechts worden toegepast voor zover de bezoldigingen voor de dagen die thuiswerkend werden doorgebracht, daadwerkelijk worden belast door de overeenkomstsluitende Staat waar de grensarbeider de dienstbetrekking zou hebben uitgeoefend zonder de maatregelen die genomen zijn ter bestrijding van de COVID-19-pandemie. De grensarbeider gaat dienovereenkomstig ermee akkoord dat deze inkomensbestanddelen daadwerkelijk belast worden in de overeenkomstsluitende Staat waar hij de dienstbetrekking zou hebben uitgeoefend zonder de maatregelen die genomen zijn om de COVID-19-pandemie te bestrijden. Deze inkomensbestanddelen worden beschouwd als zijnde 'daadwerkelijk belast' wanneer ze opgenomen zijn in de belastinggrondslag die is gebruikt om de belasting te berekenen. 3. Duur Dit akkoord is van toepassing gedurende het tijdvak van 11 maart 2020 tot 31 mei 2020. Vanaf 31 mei wordt de toepassing van dit akkoord verlengd tot het einde van de volgende kalendermaand indien beide bevoegde autoriteiten zulks schriftelijk overeenkomen ten minste ��n week voor de aanvang van de betreffende volgende kalendermaand. Dit akkoord treedt in werking op de dag volgend op de dag waarop het is ondertekend door beide bevoegde autoriteiten. Het kan unilateraal door een van de bevoegde autoriteiten van de overeenkomstsluitende Staten worden be�indigd door daarvan kennis te geven aan de bevoegde autoriteit van de andere overeenkomstsluitende Staat. Dit akkoord tussen de bevoegde autoriteiten alsmede de verlengingen ervan zullen worden gepubliceerd in het Duitse 'Bundessteuerblatt' en in het Belgisch Staatsblad. Overeengekomen door de ondergetekende bevoegde autoriteiten: Voor de bevoegde autoriteit van Belgi�, te Mechelen op 6 mei 2020: P. De Vos Adviseur-generaal Federale Overheidsdienst Financi�n van Belgi� Voor de bevoegde autoriteit van Duitsland, te Berlijn op 6 mei 2020: S. Bruns Afdelingshoofd Federaal Ministerie van Financi�n van Duitsland\""
   ]
  },
  {
   "cell_type": "code",
   "execution_count": null,
   "metadata": {},
   "outputs": [],
   "source": [
    "text = frozenset(w for w in text.split() if w)\n",
    "\n",
    "def remove_stopwords(s):\n",
    "    s = utils.to_unicode(s)\n",
    "    return \" \".join(w for w in s.split() if w not in text)"
   ]
  },
  {
   "cell_type": "code",
   "execution_count": null,
   "metadata": {},
   "outputs": [],
   "source": [
    "RE_PUNCT = re.compile('([%s])+' % re.escape(string.punctuation), re.UNICODE)\n",
    "def strip_punctuation(s):\n",
    "    s = utils.to_unicode(s)\n",
    "    return RE_PUNCT.sub(\" \", s)"
   ]
  },
  {
   "cell_type": "code",
   "execution_count": null,
   "metadata": {},
   "outputs": [],
   "source": [
    "RE_TAGS = re.compile(r\"<([^>]+)>\", re.UNICODE)\n",
    "def strip_tags(s):\n",
    "    s = utils.to_unicode(s)\n",
    "    return RE_TAGS.sub(\"\",s)"
   ]
  },
  {
   "cell_type": "code",
   "execution_count": null,
   "metadata": {},
   "outputs": [],
   "source": [
    "def strip_short(s, minsize=3):\n",
    "    s = utils.to_unicode(s)\n",
    "    return \" \".join(e for e in s.split() if len(e) >= minsize)"
   ]
  },
  {
   "cell_type": "code",
   "execution_count": null,
   "metadata": {},
   "outputs": [],
   "source": [
    "RE_NUMERIC = re.compile(r\"[0-9]+\", re.UNICODE)\n",
    "def strip_numeric(s):\n",
    "    s = utils.to_unicode(s)\n",
    "    return RE_NUMERIC.sub(\"\", s)"
   ]
  },
  {
   "cell_type": "code",
   "execution_count": null,
   "metadata": {},
   "outputs": [],
   "source": [
    "RE_NONALPHA = re.compile(r\"\\W\", re.UNICODE)\n",
    "def strip_non_alphanum(s):\n",
    "    s = utils.to_unicode(s)\n",
    "    return RE_NONALPHA.sub(\" \", s)"
   ]
  },
  {
   "cell_type": "code",
   "execution_count": null,
   "metadata": {},
   "outputs": [],
   "source": [
    "RE_WHITESPACE = re.compile(r\"(\\s)+\", re.UNICODE)\n",
    "def strip_multiple_whitespaces(s):\n",
    "    s = utils.to_unicode(s)\n",
    "    return RE_WHITESPACE.sub(\" \", s)"
   ]
  },
  {
   "cell_type": "code",
   "execution_count": null,
   "metadata": {},
   "outputs": [],
   "source": [
    "RE_AL_NUM = re.compile(r\"([a-z]+)([0-9]+)\", flags=re.UNICODE)\n",
    "RE_NUM_AL = re.compile(r\"([0-9]+)([a-z]+)\", flags=re.UNICODE)\n",
    "def split_alphanum(s):\n",
    "    s = utils.to_unicode(s)\n",
    "    s = RE_AL_NUM.sub(r\"\\1 \\2\", s)\n",
    "    return RE_NUM_AL.sub(r\"\\1 \\2\", s)"
   ]
  },
  {
   "cell_type": "code",
   "execution_count": null,
   "metadata": {},
   "outputs": [],
   "source": [
    "def stem_text(text):\n",
    "    \"\"\"\n",
    "    Return lowercase and (porter-)stemmed version of string `text`.\n",
    "    \"\"\"\n",
    "    text = utils.to_unicode(text)\n",
    "    p = PorterStemmer()\n",
    "    return ' '.join(p.stem(word) for word in text.split())\n",
    "\n",
    "stem = stem_text\n",
    "\n",
    "DEFAULT_FILTERS = [lambda x: x.lower(), strip_tags, strip_punctuation, strip_multiple_whitespaces,\n",
    "                   strip_numeric, remove_stopwords, strip_short, stem_text]\n",
    "\n",
    "\n",
    "def preprocess_string(s, filters=DEFAULT_FILTERS):\n",
    "    s = utils.to_unicode(s)\n",
    "    for f in filters:\n",
    "        s = f(s)\n",
    "    return s.split()\n"
   ]
  }
 ],
 "metadata": {
  "interpreter": {
   "hash": "b18eab118e54f42706821eebd7f89ba4d3b113f2fb39a3328aa78f33c90b7630"
  },
  "kernelspec": {
   "display_name": "Python 3.10.1 ('venv': venv)",
   "language": "python",
   "name": "python3"
  },
  "language_info": {
   "codemirror_mode": {
    "name": "ipython",
    "version": 3
   },
   "file_extension": ".py",
   "mimetype": "text/x-python",
   "name": "python",
   "nbconvert_exporter": "python",
   "pygments_lexer": "ipython3",
   "version": "3.10.1"
  },
  "orig_nbformat": 4
 },
 "nbformat": 4,
 "nbformat_minor": 2
}
