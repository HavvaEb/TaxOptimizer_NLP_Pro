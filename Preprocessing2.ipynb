{
 "cells": [
  {
   "cell_type": "code",
   "execution_count": null,
   "metadata": {},
   "outputs": [],
   "source": [
    "import re\n",
    "import string\n",
    "import glob\n",
    "\n",
    "from gensim import utils\n",
    "from gensim.parsing.porter import PorterStemmer"
   ]
  },
  {
   "cell_type": "code",
   "execution_count": null,
   "metadata": {},
   "outputs": [],
   "source": [
    "text = \"\""
   ]
  },
  {
   "cell_type": "code",
   "execution_count": null,
   "metadata": {},
   "outputs": [],
   "source": [
    "text = frozenset(w for w in text.split() if w)\n",
    "\n",
    "def remove_stopwords(s):\n",
    "    s = utils.to_unicode(s)\n",
    "    return \" \".join(w for w in s.split() if w not in text)"
   ]
  },
  {
   "cell_type": "code",
   "execution_count": null,
   "metadata": {},
   "outputs": [],
   "source": [
    "RE_PUNCT = re.compile('([%s])+' % re.escape(string.punctuation), re.UNICODE)\n",
    "def strip_punctuation(s):\n",
    "    s = utils.to_unicode(s)\n",
    "    return RE_PUNCT.sub(\" \", s)"
   ]
  },
  {
   "cell_type": "code",
   "execution_count": null,
   "metadata": {},
   "outputs": [],
   "source": [
    "RE_TAGS = re.compile(r\"<([^>]+)>\", re.UNICODE)\n",
    "def strip_tags(s):\n",
    "    s = utils.to_unicode(s)\n",
    "    return RE_TAGS.sub(\"\",s)"
   ]
  },
  {
   "cell_type": "code",
   "execution_count": null,
   "metadata": {},
   "outputs": [],
   "source": [
    "def strip_short(s, minsize=3):\n",
    "    s = utils.to_unicode(s)\n",
    "    return \" \".join(e for e in s.split() if len(e) >= minsize)"
   ]
  },
  {
   "cell_type": "code",
   "execution_count": null,
   "metadata": {},
   "outputs": [],
   "source": [
    "RE_NUMERIC = re.compile(r\"[0-9]+\", re.UNICODE)\n",
    "def strip_numeric(s):\n",
    "    s = utils.to_unicode(s)\n",
    "    return RE_NUMERIC.sub(\"\", s)"
   ]
  },
  {
   "cell_type": "code",
   "execution_count": null,
   "metadata": {},
   "outputs": [],
   "source": [
    "RE_NONALPHA = re.compile(r\"\\W\", re.UNICODE)\n",
    "def strip_non_alphanum(s):\n",
    "    s = utils.to_unicode(s)\n",
    "    return RE_NONALPHA.sub(\" \", s)"
   ]
  },
  {
   "cell_type": "code",
   "execution_count": null,
   "metadata": {},
   "outputs": [],
   "source": [
    "RE_WHITESPACE = re.compile(r\"(\\s)+\", re.UNICODE)\n",
    "def strip_multiple_whitespaces(s):\n",
    "    s = utils.to_unicode(s)\n",
    "    return RE_WHITESPACE.sub(\" \", s)"
   ]
  },
  {
   "cell_type": "code",
   "execution_count": null,
   "metadata": {},
   "outputs": [],
   "source": [
    "RE_AL_NUM = re.compile(r\"([a-z]+)([0-9]+)\", flags=re.UNICODE)\n",
    "RE_NUM_AL = re.compile(r\"([0-9]+)([a-z]+)\", flags=re.UNICODE)\n",
    "def split_alphanum(s):\n",
    "    s = utils.to_unicode(s)\n",
    "    s = RE_AL_NUM.sub(r\"\\1 \\2\", s)\n",
    "    return RE_NUM_AL.sub(r\"\\1 \\2\", s)"
   ]
  },
  {
   "cell_type": "code",
   "execution_count": null,
   "metadata": {},
   "outputs": [],
   "source": [
    "def stem_text(text):\n",
    "    \"\"\"\n",
    "    Return lowercase and (porter-)stemmed version of string `text`.\n",
    "    \"\"\"\n",
    "    text = utils.to_unicode(text)\n",
    "    p = PorterStemmer()\n",
    "    return ' '.join(p.stem(word) for word in text.split())\n",
    "\n",
    "stem = stem_text\n",
    "\n",
    "DEFAULT_FILTERS = [lambda x: x.lower(), strip_tags, strip_punctuation, strip_multiple_whitespaces,\n",
    "                   strip_numeric, remove_stopwords, strip_short, stem_text]\n",
    "\n",
    "\n",
    "def preprocess_string(s, filters=DEFAULT_FILTERS):\n",
    "    s = utils.to_unicode(s)\n",
    "    for f in filters:\n",
    "        s = f(s)\n",
    "    return s.split()\n"
   ]
  }
 ],
 "metadata": {
  "interpreter": {
   "hash": "b18eab118e54f42706821eebd7f89ba4d3b113f2fb39a3328aa78f33c90b7630"
  },
  "kernelspec": {
   "display_name": "Python 3.10.1 ('venv': venv)",
   "language": "python",
   "name": "python3"
  },
  "language_info": {
   "name": "python",
   "version": "3.10.1"
  },
  "orig_nbformat": 4
 },
 "nbformat": 4,
 "nbformat_minor": 2
}
