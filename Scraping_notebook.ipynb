{
 "cells": [
  {
   "cell_type": "code",
   "execution_count": 53,
   "metadata": {},
   "outputs": [],
   "source": [
    "#import libraries\n",
    "\n",
    "import pandas as pd\n",
    "from bs4 import BeautifulSoup\n",
    "import requests\n",
    "import csv\n",
    "from selenium import webdriver # The selenium.webdriver module provides all the implementations of WebDriver\n",
    "from selenium.webdriver.common.keys import Keys\n",
    "import re # String Manipulation"
   ]
  },
  {
   "cell_type": "code",
   "execution_count": 36,
   "metadata": {},
   "outputs": [],
   "source": [
    "# defining variables\n",
    "filename = 'links.csv'\n",
    "column_name = \"Link NL\""
   ]
  },
  {
   "cell_type": "code",
   "execution_count": 37,
   "metadata": {},
   "outputs": [
    {
     "data": {
      "text/html": [
       "<div>\n",
       "<style scoped>\n",
       "    .dataframe tbody tr th:only-of-type {\n",
       "        vertical-align: middle;\n",
       "    }\n",
       "\n",
       "    .dataframe tbody tr th {\n",
       "        vertical-align: top;\n",
       "    }\n",
       "\n",
       "    .dataframe thead th {\n",
       "        text-align: right;\n",
       "    }\n",
       "</style>\n",
       "<table border=\"1\" class=\"dataframe\">\n",
       "  <thead>\n",
       "    <tr style=\"text-align: right;\">\n",
       "      <th></th>\n",
       "      <th>Link NL</th>\n",
       "    </tr>\n",
       "  </thead>\n",
       "  <tbody>\n",
       "    <tr>\n",
       "      <th>924</th>\n",
       "      <td>http://www.ejustice.just.fgov.be/cgi/article.p...</td>\n",
       "    </tr>\n",
       "    <tr>\n",
       "      <th>925</th>\n",
       "      <td>http://www.ejustice.just.fgov.be/cgi/article.p...</td>\n",
       "    </tr>\n",
       "  </tbody>\n",
       "</table>\n",
       "</div>"
      ],
      "text/plain": [
       "                                               Link NL\n",
       "924  http://www.ejustice.just.fgov.be/cgi/article.p...\n",
       "925  http://www.ejustice.just.fgov.be/cgi/article.p..."
      ]
     },
     "execution_count": 37,
     "metadata": {},
     "output_type": "execute_result"
    }
   ],
   "source": [
    "#reading data\n",
    "data = pd.read_csv('links.csv',usecols=[\"Link NL\"], encoding='utf8')\n",
    "data.tail(2)"
   ]
  },
  {
   "cell_type": "code",
   "execution_count": 38,
   "metadata": {},
   "outputs": [],
   "source": [
    "weblink = []\n",
    "weblink= (data[column_name]).tolist()\n"
   ]
  },
  {
   "cell_type": "code",
   "execution_count": 40,
   "metadata": {},
   "outputs": [
    {
     "name": "stdout",
     "output_type": "stream",
     "text": [
      "926\n"
     ]
    }
   ],
   "source": [
    "x = len(data)\n",
    "print(x)"
   ]
  },
  {
   "cell_type": "code",
   "execution_count": 43,
   "metadata": {},
   "outputs": [
    {
     "name": "stdout",
     "output_type": "stream",
     "text": [
      "785\n"
     ]
    }
   ],
   "source": [
    "# dropping ALL duplicate values\n",
    "data = data.drop_duplicates()\n",
    "print(len(data))"
   ]
  },
  {
   "cell_type": "code",
   "execution_count": 44,
   "metadata": {},
   "outputs": [
    {
     "name": "stdout",
     "output_type": "stream",
     "text": [
      "784\n"
     ]
    }
   ],
   "source": [
    "data = data.dropna()\n",
    "print(len(data))"
   ]
  },
  {
   "cell_type": "code",
   "execution_count": 48,
   "metadata": {},
   "outputs": [],
   "source": [
    "\n",
    "def extract_liks(filename, column_name, remove_duplicates = True, remove_NAN =True):\n",
    "    data = pd.read_csv(filename,usecols=[column_name], encoding='utf8')\n",
    "    if remove_duplicates == True:\n",
    "       data = data.drop_duplicates()\n",
    "    if remove_NAN == True:\n",
    "       data = data.dropna()\n",
    "    weblink= (data[column_name]).tolist()\n",
    "    weblink = data[column_name]. map(lambda x: x.replace('article', 'article_body', 1))\n",
    "    return weblink "
   ]
  },
  {
   "cell_type": "code",
   "execution_count": 52,
   "metadata": {},
   "outputs": [
    {
     "name": "stdout",
     "output_type": "stream",
     "text": [
      "0      http://www.ejustice.just.fgov.be/cgi/article_b...\n",
      "1      http://www.ejustice.just.fgov.be/cgi/article_b...\n",
      "2      http://www.ejustice.just.fgov.be/cgi/article_b...\n",
      "3      http://www.ejustice.just.fgov.be/cgi/article_b...\n",
      "4      http://www.ejustice.just.fgov.be/cgi/article_b...\n",
      "                             ...                        \n",
      "920    http://www.ejustice.just.fgov.be/cgi/article_b...\n",
      "921    http://www.ejustice.just.fgov.be/cgi/article_b...\n",
      "922    http://www.ejustice.just.fgov.be/cgi/article_b...\n",
      "923    http://www.ejustice.just.fgov.be/cgi/article_b...\n",
      "924    http://www.ejustice.just.fgov.be/cgi/article_b...\n",
      "Name: Link NL, Length: 784, dtype: object\n"
     ]
    }
   ],
   "source": [
    "links = extract_liks(filename,column_name)\n",
    "print((links))"
   ]
  },
  {
   "cell_type": "code",
   "execution_count": 61,
   "metadata": {},
   "outputs": [
    {
     "name": "stderr",
     "output_type": "stream",
     "text": [
      "C:\\Users\\Mate Kovacs\\AppData\\Local\\Temp\\ipykernel_22680\\2277237763.py:1: DeprecationWarning: executable_path has been deprecated, please pass in a Service object\n",
      "  driver = webdriver.Chrome('F:/chromedriver') # Here, we create instance of chrome WebDriver\n"
     ]
    }
   ],
   "source": []
  },
  {
   "cell_type": "code",
   "execution_count": 64,
   "metadata": {},
   "outputs": [],
   "source": [
    "def get_text(urls):      \n",
    "        driver.get(urls)\n",
    "        soup = BeautifulSoup(driver.page_source,\"html.parser\") \n",
    "        text = soup.find_all(text=True) \n",
    "        return text\n",
    "    "
   ]
  },
  {
   "cell_type": "code",
   "execution_count": null,
   "metadata": {},
   "outputs": [],
   "source": [
    "driver = webdriver.Chrome('F:/chromedriver') # Here, we create instance of chrome WebDriver\n",
    "with open('text.csv','w', encoding='utf8', newline='') as f:\n",
    "    \n",
    "    thewriter = csv.writer(f)\n",
    "    header= ['content']\n",
    "    thewriter.writerow(header)\n",
    "    for url in links:\n",
    "        text = get_text(url)\n",
    "        thewriter.writerow(text)\n",
    "\n",
    "    "
   ]
  },
  {
   "cell_type": "code",
   "execution_count": null,
   "metadata": {},
   "outputs": [],
   "source": [
    "with open('readme.txt', 'w') as f:"
   ]
  },
  {
   "cell_type": "code",
   "execution_count": 72,
   "metadata": {},
   "outputs": [
    {
     "name": "stderr",
     "output_type": "stream",
     "text": [
      "C:\\Users\\Mate Kovacs\\AppData\\Local\\Temp\\ipykernel_22680\\3870101974.py:1: DeprecationWarning: executable_path has been deprecated, please pass in a Service object\n",
      "  driver = webdriver.Chrome('F:/chromedriver') # Here, we create instance of chrome WebDriver\n"
     ]
    }
   ],
   "source": [
    "driver = webdriver.Chrome('F:/chromedriver') # Here, we create instance of chrome WebDriver\n",
    "num = 0\n",
    "for url in links:\n",
    "    num = num+1\n",
    "    filename = 'url_num_' + str(num) +'.txt'\n",
    "    with open(filename, 'w', encoding='utf-8') as f:\n",
    "        text = get_text(url)\n",
    "        f.writelines(text)\n"
   ]
  }
 ],
 "metadata": {
  "interpreter": {
   "hash": "df92163211a0df6f7beb2c4dbc6a36ea0e4ae8d51fa2d0215717c10951f47222"
  },
  "kernelspec": {
   "display_name": "Python 3.10.2 64-bit",
   "language": "python",
   "name": "python3"
  },
  "language_info": {
   "codemirror_mode": {
    "name": "ipython",
    "version": 3
   },
   "file_extension": ".py",
   "mimetype": "text/x-python",
   "name": "python",
   "nbconvert_exporter": "python",
   "pygments_lexer": "ipython3",
   "version": "3.10.2"
  },
  "orig_nbformat": 4
 },
 "nbformat": 4,
 "nbformat_minor": 2
}
