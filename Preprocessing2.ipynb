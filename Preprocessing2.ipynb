{
 "cells": [
  {
   "cell_type": "code",
   "execution_count": 1,
   "metadata": {},
   "outputs": [],
   "source": [
    "import re\n",
    "\n",
    "# Gensim packages\n",
    "from gensim.parsing import strip_tags, strip_numeric, strip_multiple_whitespaces, stem_text, strip_punctuation, remove_stopwords\n",
    "from gensim.parsing import preprocess_string\n",
    "import spacy"
   ]
  },
  {
   "cell_type": "code",
   "execution_count": null,
   "metadata": {},
   "outputs": [],
   "source": [
    "with open(\"data/article_1.txt\", \"r\") as f:\n",
    "   text = f.read()\n",
    "print(text)"
   ]
  },
  {
   "cell_type": "markdown",
   "metadata": {},
   "source": [
    "##### Lemmatization"
   ]
  },
  {
   "cell_type": "code",
   "execution_count": null,
   "metadata": {},
   "outputs": [],
   "source": [
    "# lemmization \n",
    "\n",
    "nlp = spacy.load('en_core_web_sm')\n",
    "\n",
    "document = nlp(text)\n",
    "\n",
    "for token in document: \n",
    "    lemm_text = token.lemma_\n",
    "    tok_text = token.text\n",
    "    print (lemm_text) "
   ]
  },
  {
   "cell_type": "markdown",
   "metadata": {},
   "source": [
    "##### Preprocessing "
   ]
  },
  {
   "cell_type": "code",
   "execution_count": 30,
   "metadata": {},
   "outputs": [],
   "source": [
    "\n",
    "\n",
    "# Custom filter method\n",
    "transform_to_lower = lambda s: s.lower()\n",
    "\n",
    "remove_single_char = lambda s: re.sub(r'\\s+\\w{1}\\s+', '', s)\n",
    "\n",
    "# Filters to be executed in pipeline\n",
    "CLEAN_FILTERS = [strip_tags,\n",
    "                strip_numeric,\n",
    "                strip_punctuation, \n",
    "                strip_multiple_whitespaces, \n",
    "                transform_to_lower,\n",
    "                remove_stopwords,\n",
    "                remove_single_char]\n",
    "\n",
    "# Method does the filtering of all the unrelevant text elements\n",
    "def cleaning_pipe(document):\n",
    "    # Invoking gensim.parsing.preprocess_string method with set of filters\n",
    "    processed_words = preprocess_string(document, CLEAN_FILTERS)\n",
    "\n",
    "    return processed_words "
   ]
  }
 ],
 "metadata": {
  "interpreter": {
   "hash": "b18eab118e54f42706821eebd7f89ba4d3b113f2fb39a3328aa78f33c90b7630"
  },
  "kernelspec": {
   "display_name": "Python 3.10.1 ('venv': venv)",
   "language": "python",
   "name": "python3"
  },
  "language_info": {
   "codemirror_mode": {
    "name": "ipython",
    "version": 3
   },
   "file_extension": ".py",
   "mimetype": "text/x-python",
   "name": "python",
   "nbconvert_exporter": "python",
   "pygments_lexer": "ipython3",
   "version": "3.10.1"
  },
  "orig_nbformat": 4
 },
 "nbformat": 4,
 "nbformat_minor": 2
}
