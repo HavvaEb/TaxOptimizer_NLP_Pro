{
 "cells": [
  {
   "cell_type": "markdown",
   "metadata": {},
   "source": [
    "#Tokenization "
   ]
  },
  {
   "cell_type": "code",
   "execution_count": 9,
   "metadata": {},
   "outputs": [],
   "source": [
    "import nltk\n",
    "import spacy\n",
    "from nltk.tokenize import RegexpTokenizer\n",
    "from spacy.lang.nl.stop_words import STOP_WORDS\n",
    "from string import punctuation\n",
    "from spacy.lang.nl import Dutch\n",
    "import re"
   ]
  },
  {
   "cell_type": "code",
   "execution_count": 8,
   "metadata": {},
   "outputs": [],
   "source": [
    "def loadLangModel(lang):\n",
    "    \"\"\"\n",
    "    This function loads a spacy model and return it.\n",
    "    \"\"\"\n",
    "    return spacy.load(lang)\n",
    "\n",
    "\n",
    "# load a medium sized dutch language model in spacy    \n",
    "nlp = loadLangModel('nl_core_news_lg')"
   ]
  },
  {
   "cell_type": "code",
   "execution_count": null,
   "metadata": {},
   "outputs": [],
   "source": [
    "#ref: https://stackoverflow.com/questions/45605946/how-to-do-text-pre-processing-using-spacy\n",
    "stopwords = list(STOP_WORDS)\n",
    "punctuations = punctuation\n",
    "pattern = r'[0-9]'\n",
    "def normalize(comment, lowercase, remove_stopwords):\n",
    "    \"\"\"\n",
    "    This function is used to normalize the text, lemmatize, remove stopwords and punctuations\n",
    "    \n",
    "    \"\"\"\n",
    "    if lowercase:\n",
    "        comment = comment.lower()\n",
    "        # Match all digits in the string and replace them by empty string, Nb: Strip will take care of all the extra-white space\n",
    "        comment = re.sub(pattern, \"\", comment)\n",
    "\n",
    "    comment = nlp(comment)\n",
    "    lemmatized = list()\n",
    "    for word in comment:\n",
    "        #Lemmatize the word\n",
    "        lemma = word.lemma_.strip()\n",
    "        if lemma:\n",
    "            #Remove stopwords and punctuactions\n",
    "            if not remove_stopwords or (remove_stopwords and lemma not in stopwords and lemma not in punctuations):\n",
    "                lemmatized.append(lemma)\n",
    "    return \" \".join(lemmatized)\n"
   ]
  }
 ],
 "metadata": {
  "interpreter": {
   "hash": "b18eab118e54f42706821eebd7f89ba4d3b113f2fb39a3328aa78f33c90b7630"
  },
  "kernelspec": {
   "display_name": "Python 3.10.1 ('venv': venv)",
   "language": "python",
   "name": "python3"
  },
  "language_info": {
   "codemirror_mode": {
    "name": "ipython",
    "version": 3
   },
   "file_extension": ".py",
   "mimetype": "text/x-python",
   "name": "python",
   "nbconvert_exporter": "python",
   "pygments_lexer": "ipython3",
   "version": "3.10.1"
  },
  "orig_nbformat": 4
 },
 "nbformat": 4,
 "nbformat_minor": 2
}
