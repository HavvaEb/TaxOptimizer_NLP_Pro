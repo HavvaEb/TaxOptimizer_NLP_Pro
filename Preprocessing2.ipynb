{
 "cells": [
  {
   "cell_type": "code",
   "execution_count": 22,
   "metadata": {},
   "outputs": [],
   "source": [
    "import re\n",
    "import string\n",
    "import glob\n",
    "\n",
    "# Gensim packages\n",
    "from gensim.parsing import strip_tags, strip_numeric, strip_multiple_whitespaces, stem_text, strip_punctuation, remove_stopwords\n",
    "from gensim.parsing import preprocess_string\n",
    "from gensim import utils\n",
    "from gensim.parsing.porter import PorterStemmer"
   ]
  },
  {
   "cell_type": "code",
   "execution_count": 26,
   "metadata": {},
   "outputs": [
    {
     "name": "stdout",
     "output_type": "stream",
     "text": [
      "Special power decision of the Brussels Capital Government No 2020/051 adopting various measures with a view to the temporary suspension of the tax on tourist accommodation establishments on the basis of the health crisis of the COVID-19 REPORT to the Brussels Capital Government For the attention of the members of the Government, the preliminary draft decision submitted to you for examination aims to provide financial assistance to operators operating in the Brussels tourist residence sector. Under normal circumstances, the operators of tourist accommodation establishments are subject to the City Tax, calculated per night, provided for in the decree of 23 December 2016 on regional tax on tourist accommodation establishments. Since the outbreak of the health crisis as a result of the COVID-19 coronavirus, the effects of this global crisis on economic activity and tourism have greatly reduced the demand for accommodations in tourist accommodations.However, the fragile state of the tourist accommodation sector has not received the expected grace and the sector remains close to bankruptcy, in particular by announcing the risk of a third wave of dissemination of the COVID-19 virus. In any case, the socio-economic effects of the pandemic in the course of the first semester of 2021 will still be felt, both because the restrictive measures are likely to be applied during the first semester of 2021 and because of the long-term effects of the economic crisis which has hit this economic sector of the Brussels Capital Region.Brussels-Capital Government No 2020/051 adopting various measures with a view to the temporary suspension of the tax on tourist accommodation establishments pursuant to the health crisis of the COVID-19 Brussels-Capital Government, having regard to the Order of 23 December 2016 concerning the regional tax on tourist accommodation establishments, Articles 3, 6, 7, 8, 9 and 10; having regard to the Order of 23 November 2020 granting special powers to the Brussels-Capital Government in the context of the health crisis of COVID-19, Article 2; having regard to Article 2, § 3, 5° of the Order of 4 October 2018 introducing the equal opportunities test which introduces an exemption to the assessment report referred to in Article 2, § 1, 1°, of the same ordinance; having regard to the opinion of the Finance inspector given on 8 December 2020; having regard to the agreement of the Minister of the Brussels-Capital Region given on 9 December 2020; having regard to the request for urgent treatment by theHaving regard to Article 3 (1) of the Order of 23 November 2020 to grant special powers to the Brussels Capital Government in the context of the health crisis COVID-19, this Decision must be confirmed by the Brussels Capitalist Parliament in accordance with Article 1 (1) of Council Regulation (EEC) No 1408/71 on the application of social security schemes to employed persons, to selfemployed persons, to selfemployed persons, to selfemployed persons, to selfemployed persons, to selfemployed persons, to selfemployed persons, to selfemployed persons, to selfemployed persons, to selfemployed persons, to selfemployed persons, to selfemployed persons, to selfemployed persons, to selfemployed persons, to selfemployed persons, to selfemployed persons, to selfemployed persons, to selfemployed persons, to selfemployed persons, to selfemployed persons, to selfemployed persons, to selfemployed persons, to selfemployed persons, to selfemployed persons, to selfemployed persons, to selfemployed persons, to selfemployed persons, to selfemployed persons, to selfemployed persons, to selfemployed persons, to selfemployed persons, to selfemployed persons, to selfemployed persons, to selfemployed persons, to selfemployed persons, to selfemployed persons, to selfemployed persons, to selfemployed persons, to selfemployed persons, to selfemployed persons, to selfemployed persons, to selfemployed persons, to selfemployed persons, to selfemployed persons, to selfemployed persons, to selfemployed persons, to selfemployed persons, to selfemployed persons, to selfemployed persons, to selfemployed persons, to selfemployed persons, to selfemployed persons, to selfemployed persons, to selfemployed persons, to self-employed persons, to self-employed persons, to self-employed persons, to self-employed to self-employed persons, to self-employed persons and self-employed persons, to self-employed persons, to self-employed persons, to self-employed to self-employed persons, self-employed persons, to self-employed persons, to self-employed persons, to self-employed persons or to self-employed persons, to self-employed persons, to self-employed persons, to self-employed persons, to self-employed or to self-employed or to self-employed persons, to self-employed or self-employed or self-employed or self-employed or to self-employed or to self-employed or to self-employed or to self-employed or to self-employed or to self-employed or to self-employedJanuary 2021 to 30 June 2021. Art. 7. By way of derogation from Article 14 of the Ordinance of 21 December 2012 establishing the tax procedure in the Brussels Capital Region, no interest shall be due on the amounts reimbursed upon application of this Decision. Article 8. This Decision shall have effect with effect from 1 January 2021. Art. 9. The Minister responsible for Finance and Budget shall be responsible for the implementation of this Decision. Brussels, 7 January 2021. For the Brussels Capital Government: The Prime Minister of the Brussels Capital Government, R. VERVOORT The Minister of the Brussels Capital Government, responsible for mobility, public works and road safety, E. VAN DEN BRAND The Minister of the Brussels Capital Government, responsible for climate transition, environment, energy and participatory democracy, A. MARON The Minister of the Brussels Capital Government, responsible for finance, budget, public service and promotion of Multilingualism, S. GATZ The Minister of the Brussels Capital Government, responsible for work and vocational training, B.F.\n"
     ]
    }
   ],
   "source": [
    "with open(\"article_104.txt\", \"r\") as f:\n",
    "   text = f.read()\n",
    "print(text)"
   ]
  },
  {
   "cell_type": "code",
   "execution_count": 32,
   "metadata": {},
   "outputs": [],
   "source": [
    "# Custom filter method\n",
    "transform_to_lower = lambda s: s.lower()\n",
    "\n",
    "remove_single_char = lambda s: re.sub(r'\\s+\\w{1}\\s+', '', s)\n",
    "\n",
    "# Filters to be executed in pipeline\n",
    "CLEAN_FILTERS = [strip_tags,\n",
    "                strip_numeric,\n",
    "                strip_punctuation, \n",
    "                strip_multiple_whitespaces, \n",
    "                transform_to_lower,\n",
    "                remove_stopwords,\n",
    "                remove_single_char]\n",
    "\n",
    "# Method does the filtering of all the unrelevant text elements\n",
    "def cleaning_pipe(document):\n",
    "    # Invoking gensim.parsing.preprocess_string method with set of filters\n",
    "    processed_words = preprocess_string(document, CLEAN_FILTERS)\n",
    "\n",
    "    return processed_words"
   ]
  },
  {
   "cell_type": "code",
   "execution_count": 33,
   "metadata": {},
   "outputs": [
    {
     "name": "stdout",
     "output_type": "stream",
     "text": [
      "['special', 'power', 'decision', 'brussels', 'capital', 'government', 'adopting', 'measures', 'view', 'temporary', 'suspension', 'tax', 'tourist', 'accommodation', 'establishments', 'basis', 'health', 'crisis', 'covid', 'report', 'brussels', 'capital', 'government', 'attention', 'members', 'government', 'preliminary', 'draft', 'decision', 'submitted', 'examination', 'aims', 'provide', 'financial', 'assistance', 'operators', 'operating', 'brussels', 'tourist', 'residence', 'sector', 'normal', 'circumstances', 'operators', 'tourist', 'accommodation', 'establishments', 'subject', 'city', 'tax', 'calculated', 'night', 'provided', 'decree', 'december', 'regional', 'tax', 'tourist', 'accommodation', 'establishments', 'outbreak', 'health', 'crisis', 'result', 'covid', 'coronavirus', 'effects', 'global', 'crisis', 'economic', 'activity', 'tourism', 'greatly', 'reduced', 'demand', 'accommodations', 'tourist', 'accommodations', 'fragile', 'state', 'tourist', 'accommodation', 'sector', 'received', 'expected', 'grace', 'sector', 'remains', 'close', 'bankruptcy', 'particular', 'announcing', 'risk', 'wave', 'dissemination', 'covid', 'virus', 'case', 'socio', 'economic', 'effects', 'pandemic', 'course', 'semester', 'felt', 'restrictive', 'measures', 'likely', 'applied', 'semester', 'long', 'term', 'effects', 'economic', 'crisis', 'hit', 'economic', 'sector', 'brussels', 'capital', 'region', 'brussels', 'capital', 'government', 'adopting', 'measures', 'view', 'temporary', 'suspension', 'tax', 'tourist', 'accommodation', 'establishments', 'pursuant', 'health', 'crisis', 'covid', 'brussels', 'capital', 'government', 'having', 'regard', 'order', 'december', 'concerning', 'regional', 'tax', 'tourist', 'accommodation', 'establishments', 'articles', 'having', 'regard', 'order', 'november', 'granting', 'special', 'powers', 'brussels', 'capital', 'government', 'context', 'health', 'crisis', 'covid', 'article', 'having', 'regard', 'article', '§', '°', 'order', 'october', 'introducing', 'equal', 'opportunities', 'test', 'introduces', 'exemption', 'assessment', 'report', 'referred', 'article', '§', '°', 'ordinance', 'having', 'regard', 'opinion', 'finance', 'inspector', 'given', 'december', 'having', 'regard', 'agreement', 'minister', 'brussels', 'capital', 'region', 'given', 'december', 'having', 'regard', 'request', 'urgent', 'treatment', 'thehaving', 'regard', 'article', 'order', 'november', 'grant', 'special', 'powers', 'brussels', 'capital', 'government', 'context', 'health', 'crisis', 'covid', 'decision', 'confirmed', 'brussels', 'capitalist', 'parliament', 'accordance', 'article', 'council', 'regulation', 'eec', 'application', 'social', 'security', 'schemes', 'employed', 'persons', 'selfemployed', 'persons', 'selfemployed', 'persons', 'selfemployed', 'persons', 'selfemployed', 'persons', 'selfemployed', 'persons', 'selfemployed', 'persons', 'selfemployed', 'persons', 'selfemployed', 'persons', 'selfemployed', 'persons', 'selfemployed', 'persons', 'selfemployed', 'persons', 'selfemployed', 'persons', 'selfemployed', 'persons', 'selfemployed', 'persons', 'selfemployed', 'persons', 'selfemployed', 'persons', 'selfemployed', 'persons', 'selfemployed', 'persons', 'selfemployed', 'persons', 'selfemployed', 'persons', 'selfemployed', 'persons', 'selfemployed', 'persons', 'selfemployed', 'persons', 'selfemployed', 'persons', 'selfemployed', 'persons', 'selfemployed', 'persons', 'selfemployed', 'persons', 'selfemployed', 'persons', 'selfemployed', 'persons', 'selfemployed', 'persons', 'selfemployed', 'persons', 'selfemployed', 'persons', 'selfemployed', 'persons', 'selfemployed', 'persons', 'selfemployed', 'persons', 'selfemployed', 'persons', 'selfemployed', 'persons', 'selfemployed', 'persons', 'selfemployed', 'persons', 'selfemployed', 'persons', 'selfemployed', 'persons', 'selfemployed', 'persons', 'selfemployed', 'persons', 'selfemployed', 'persons', 'selfemployed', 'persons', 'selfemployed', 'persons', 'selfemployed', 'persons', 'selfemployed', 'persons', 'selfemployed', 'persons', 'selfemployed', 'persons', 'selfemployed', 'persons', 'selfemployed', 'persons', 'selfemployed', 'persons', 'self', 'employed', 'persons', 'self', 'employed', 'persons', 'self', 'employed', 'persons', 'self', 'employed', 'self', 'employed', 'persons', 'self', 'employed', 'persons', 'self', 'employed', 'persons', 'self', 'employed', 'persons', 'self', 'employed', 'persons', 'self', 'employed', 'self', 'employed', 'persons', 'self', 'employed', 'persons', 'self', 'employed', 'persons', 'self', 'employed', 'persons', 'self', 'employed', 'persons', 'self', 'employed', 'persons', 'self', 'employed', 'persons', 'self', 'employed', 'persons', 'self', 'employed', 'persons', 'self', 'employed', 'self', 'employed', 'self', 'employed', 'persons', 'self', 'employed', 'self', 'employed', 'self', 'employed', 'self', 'employed', 'self', 'employed', 'self', 'employed', 'self', 'employed', 'self', 'employed', 'self', 'employed', 'self', 'employed', 'self', 'employedjanuary', 'june', 'art', 'way', 'derogation', 'article', 'ordinance', 'december', 'establishing', 'tax', 'procedure', 'brussels', 'capital', 'region', 'shall', 'amounts', 'reimbursed', 'application', 'decision', 'article', 'decision', 'shall', 'effect', 'effect', 'january', 'art', 'minister', 'responsible', 'finance', 'budget', 'shall', 'responsible', 'implementation', 'decision', 'brussels', 'january', 'brussels', 'capital', 'government', 'prime', 'minister', 'brussels', 'capital', 'governmentvervoort', 'minister', 'brussels', 'capital', 'government', 'responsible', 'mobility', 'public', 'works', 'road', 'safetyvan', 'den', 'brand', 'minister', 'brussels', 'capital', 'government', 'responsible', 'climate', 'transition', 'environment', 'energy', 'participatory', 'democracy', 'maron', 'minister', 'brussels', 'capital', 'government', 'responsible', 'finance', 'budget', 'public', 'service', 'promotion', 'multilingualismgatz', 'minister', 'brussels', 'capital', 'government', 'responsible', 'work', 'vocational', 'trainingf']\n"
     ]
    }
   ],
   "source": [
    "clean_text= cleaning_pipe(text) \n",
    "print(clean_text)"
   ]
  }
 ],
 "metadata": {
  "interpreter": {
   "hash": "b18eab118e54f42706821eebd7f89ba4d3b113f2fb39a3328aa78f33c90b7630"
  },
  "kernelspec": {
   "display_name": "Python 3.10.1 ('venv': venv)",
   "language": "python",
   "name": "python3"
  },
  "language_info": {
   "codemirror_mode": {
    "name": "ipython",
    "version": 3
   },
   "file_extension": ".py",
   "mimetype": "text/x-python",
   "name": "python",
   "nbconvert_exporter": "python",
   "pygments_lexer": "ipython3",
   "version": "3.10.1"
  },
  "orig_nbformat": 4
 },
 "nbformat": 4,
 "nbformat_minor": 2
}
