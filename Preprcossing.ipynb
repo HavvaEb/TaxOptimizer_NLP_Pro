{
 "cells": [
  {
   "cell_type": "code",
   "execution_count": 1,
   "metadata": {},
   "outputs": [],
   "source": [
    "from gensim import utils\n",
    "from gensim.parsing.porter import PorterStemmer\n",
    "from gensim.parsing.preprocessing import strip_numeric, strip_punctuation, strip_short, stem_text\n",
    "from gensim.parsing.preprocessing import remove_stopwords, preprocess_string,strip_multiple_whitespaces,strip_non_alphanum\n",
    "import os"
   ]
  },
  {
   "cell_type": "code",
   "execution_count": 3,
   "metadata": {},
   "outputs": [],
   "source": [
    "def Preprocessing(text,PreProcessFolder,file_number):\n",
    "    stopword = remove_stopwords(text) \n",
    "    preprocess = ' '.join(preprocess_string(stopword))                          # remove all stopwords                 # perform lowercasing, remove digit\n",
    "    whitespace = strip_multiple_whitespaces(preprocess)                         # remove repeating white space \n",
    "    non_aiphanum = strip_non_alphanum(whitespace)                               # strip alphanumeric and underscore\n",
    "    remove_numeric = strip_numeric(non_aiphanum)                                # remove numberic\n",
    "    remove_punct = strip_punctuation(remove_numeric)\n",
    "    short_word = strip_short(remove_punct, minsize=3)\n",
    "    finish_word = stem_text(short_word)\n",
    "    return finish_word\n",
    "\n",
    "    #  writing the output of the preprocess file into a file \n",
    "\n",
    "    file = PreProcessFolder + 'article_' + str(file_number) + '.txt'\n",
    "    with open(file, 'w') as f:\n",
    "        f.write(finish_word)\n",
    "\n",
    "\n",
    "input_folder = '/clean_text_nl/'\n",
    "path = os.getcwd().replace('\\\\', '/') + input_folder\n",
    "text_files = [path + i for i in os.listdir(path)]\n",
    "\n",
    "i = 0\n",
    "\n",
    "for text in text_files:\n",
    "    i += 1\n",
    "    with open(text, 'r') as f:\n",
    "        text = f.read()\n",
    "    Preprocessing(text, 'clean_preprocessed_text_nl/', i)\n"
   ]
  }
 ],
 "metadata": {
  "interpreter": {
   "hash": "b18eab118e54f42706821eebd7f89ba4d3b113f2fb39a3328aa78f33c90b7630"
  },
  "kernelspec": {
   "display_name": "Python 3.10.1 ('venv': venv)",
   "language": "python",
   "name": "python3"
  },
  "language_info": {
   "codemirror_mode": {
    "name": "ipython",
    "version": 3
   },
   "file_extension": ".py",
   "mimetype": "text/x-python",
   "name": "python",
   "nbconvert_exporter": "python",
   "pygments_lexer": "ipython3",
   "version": "3.10.1"
  },
  "orig_nbformat": 4
 },
 "nbformat": 4,
 "nbformat_minor": 2
}
