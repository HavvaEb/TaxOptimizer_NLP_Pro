{
 "cells": [
  {
   "cell_type": "code",
   "execution_count": 15,
   "metadata": {},
   "outputs": [
    {
     "name": "stdout",
     "output_type": "stream",
     "text": [
      "nl\n"
     ]
    }
   ],
   "source": [
    "from langdetect import detect\n",
    "\n",
    "sentence = \"De Minister van de Brusselse Hoofdstedelijke Regering\"\n",
    "\n",
    "print(detect(sentence))"
   ]
  },
  {
   "cell_type": "code",
   "execution_count": null,
   "metadata": {},
   "outputs": [],
   "source": [
    "from txtai.pipeline import Translation\n",
    "\n",
    "# Create translation model\n",
    "translate = Translation()\n",
    "\n"
   ]
  },
  {
   "cell_type": "code",
   "execution_count": 7,
   "metadata": {},
   "outputs": [
    {
     "data": {
      "text/plain": [
       "'The Minister of the Brussels Capital Government'"
      ]
     },
     "execution_count": 7,
     "metadata": {},
     "output_type": "execute_result"
    }
   ],
   "source": [
    "translation = translate(\"De Minister van de Brusselse Hoofdstedelijke Regering\", \"en\")\n",
    "translation"
   ]
  },
  {
   "cell_type": "code",
   "execution_count": 12,
   "metadata": {},
   "outputs": [],
   "source": [
    "path = 'F:/TaxOptimizer_NLP_Pro/TaxOptimizer_NLP_Pro/text/url_num_'"
   ]
  },
  {
   "cell_type": "code",
   "execution_count": 22,
   "metadata": {},
   "outputs": [
    {
     "name": "stdout",
     "output_type": "stream",
     "text": [
      "F:/TaxOptimizer_NLP_Pro/TaxOptimizer_NLP_Pro/text/url_num_1.txt\n"
     ]
    }
   ],
   "source": [
    "#creat new path and traslate text to english\n",
    "path2 = 'F:/TaxOptimizer_NLP_Pro/TaxOptimizer_NLP_Pro/text_en/url_num_'\n",
    "for i in range(1,2):\n",
    "    \n",
    "    input_path = path + str(i) + '.txt'\n",
    "    output_path = path2 + str(i) +'_en.txt'\n",
    "    print(input_path)\n",
    "    lines =[]\n",
    "    with open(input_path, encoding='utf-8') as f:\n",
    "        lines = f.readlines()\n",
    "    \n",
    "        #translation = translate(contents, \"en\")\n",
    "        f.close()\n",
    "    with open(output_path, 'w', encoding='utf-8') as f: \n",
    "        for line in lines:\n",
    "            translation = translate(line, \"en\") \n",
    "            f.writelines(translation) \n",
    "        #print(translation)\n",
    "    \n",
    "        "
   ]
  }
 ],
 "metadata": {
  "interpreter": {
   "hash": "5a356e9517e14dc2ad259a2123438b15b3972e1e2b3dbfde245c14a47e88b3a8"
  },
  "kernelspec": {
   "display_name": "Python 3.9.7 ('base')",
   "language": "python",
   "name": "python3"
  },
  "language_info": {
   "codemirror_mode": {
    "name": "ipython",
    "version": 3
   },
   "file_extension": ".py",
   "mimetype": "text/x-python",
   "name": "python",
   "nbconvert_exporter": "python",
   "pygments_lexer": "ipython3",
   "version": "3.9.7"
  },
  "orig_nbformat": 4
 },
 "nbformat": 4,
 "nbformat_minor": 2
}
