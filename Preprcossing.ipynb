{
 "cells": [
  {
   "cell_type": "code",
   "execution_count": null,
   "metadata": {},
   "outputs": [],
   "source": [
    "from gensim import utils\n",
    "from gensim.parsing.porter import PorterStemmer\n",
    "from gensim.parsing.preprocessing import strip_numeric, strip_punctuation, strip_short, stem_text\n",
    "from gensim.parsing.preprocessing import remove_stopwords, preprocess_string,strip_multiple_whitespaces,strip_non_alphanum"
   ]
  },
  {
   "cell_type": "code",
   "execution_count": null,
   "metadata": {},
   "outputs": [],
   "source": [
    "def Preprocessing(text):\n",
    "    stopword = remove_stopwords(text)                           # remove all stopwords\n",
    "    preprocess = preprocess_string(stopword)                    # perform lowercasing, remove digit\n",
    "    whitespace = strip_multiple_whitespaces(preprocess)         # remove repeating white space \n",
    "    non_aiphanum = strip_non_alphanum(whitespace)               # strip alphanumeric and underscore\n",
    "    remove_numeric = strip_numeric(non_aiphanum)                 # remove numberic\n",
    "    remove_punct = strip_punctuation(remove_numeric)\n",
    "    short_word = strip_short(remove_punct, minsize=3)\n",
    "    finish_word = stem_text(short_word)\n",
    "\n",
    "    return finish_word\n",
    "\n",
    "\n",
    "\n"
   ]
  }
 ],
 "metadata": {
  "interpreter": {
   "hash": "b18eab118e54f42706821eebd7f89ba4d3b113f2fb39a3328aa78f33c90b7630"
  },
  "kernelspec": {
   "display_name": "Python 3.10.1 ('venv': venv)",
   "language": "python",
   "name": "python3"
  },
  "language_info": {
   "name": "python",
   "version": "3.10.1"
  },
  "orig_nbformat": 4
 },
 "nbformat": 4,
 "nbformat_minor": 2
}
