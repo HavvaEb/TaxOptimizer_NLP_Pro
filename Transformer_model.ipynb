{
  "nbformat": 4,
  "nbformat_minor": 0,
  "metadata": {
    "colab": {
      "name": "Transformer_model.ipynb",
      "provenance": [],
      "collapsed_sections": []
    },
    "kernelspec": {
      "name": "python3",
      "display_name": "Python 3"
    },
    "language_info": {
      "name": "python"
    }
  },
  "cells": [
    {
      "cell_type": "code",
      "source": [
        "import pandas as pd\n",
        "\n",
        "fname = '/content/dataframe.csv'\n",
        "data = pd.read_csv(fname)\n",
        "print(data)"
      ],
      "metadata": {
        "id": "y6PN3BbTKRy9"
      },
      "execution_count": null,
      "outputs": []
    },
    {
      "cell_type": "code",
      "source": [
        "data.columns\n"
      ],
      "metadata": {
        "id": "CzCXTEp2NV7k"
      },
      "execution_count": null,
      "outputs": []
    },
    {
      "cell_type": "code",
      "source": [
        "count_observations = data.shape[0]  # Gives number of rows\n",
        "count_columns = data.shape[1]  # Gives number of columns\n",
        "\n",
        "print(count_observations)"
      ],
      "metadata": {
        "id": "STxdpraFNa99"
      },
      "execution_count": null,
      "outputs": []
    },
    {
      "cell_type": "code",
      "source": [
        "print(data.content.unique()) # different labels"
      ],
      "metadata": {
        "id": "4G6bxKXPNhQ3"
      },
      "execution_count": null,
      "outputs": []
    },
    {
      "cell_type": "code",
      "source": [
        "#import matplotlib.pyplot as plt\n",
        "#%matplotlib inline\n",
        "\n",
        "#fig, ax1 = plt.subplots(1, 1, figsize= (25, 5))\n",
        "#data['content'].value_counts().plot(kind='bar', ax=ax1)"
      ],
      "metadata": {
        "id": "nmVrk6qQNsiU"
      },
      "execution_count": null,
      "outputs": []
    },
    {
      "cell_type": "code",
      "source": [
        "#data[\"text_lower\"] = data[\"content\"].str.lower()\n",
        "#data['content'].value_counts()"
      ],
      "metadata": {
        "id": "GNpsYoAFN38p"
      },
      "execution_count": null,
      "outputs": []
    },
    {
      "cell_type": "code",
      "source": [
        "data.head()"
      ],
      "metadata": {
        "id": "pj7xapwcRkFR"
      },
      "execution_count": null,
      "outputs": []
    },
    {
      "cell_type": "code",
      "source": [
        "import numpy as np\n",
        "import pandas as pd\n",
        "import re\n",
        "import nltk\n",
        "import spacy\n",
        "import string\n",
        "pd.options.mode.chained_assignment = None"
      ],
      "metadata": {
        "id": "wsGZ_E05OGtZ"
      },
      "execution_count": 92,
      "outputs": []
    },
    {
      "cell_type": "markdown",
      "source": [
        "###labels encoding"
      ],
      "metadata": {
        "id": "Ta0oQ0VzTYMt"
      }
    },
    {
      "cell_type": "code",
      "source": [
        "label = {0: 'Onderwijs', 1: 'Belastingen', 2: 'Transport', 3: 'Werk', 4: 'Zaken', 5: 'Plaatsvervangend', 6: 'Contract', 7: 'covid'}"
      ],
      "metadata": {
        "id": "9JSNPTR_SdC_"
      },
      "execution_count": null,
      "outputs": []
    },
    {
      "cell_type": "code",
      "source": [
        "# make a dict\n",
        "label_dict = {}\n",
        "for id, label in enumerate(data['content'].unique()):\n",
        "  label_dict[label] = id\n",
        "label_dict"
      ],
      "metadata": {
        "id": "MSrza9jdSJEJ"
      },
      "execution_count": null,
      "outputs": []
    },
    {
      "cell_type": "code",
      "source": [
        "data['id_label'] = data['content'].apply(lambda x: label_dict[x])\n",
        "data"
      ],
      "metadata": {
        "id": "8HbzcCzESslc"
      },
      "execution_count": null,
      "outputs": []
    },
    {
      "cell_type": "code",
      "source": [
        "data.to_pickle(\"label_file.pkl\")"
      ],
      "metadata": {
        "id": "9zQpJeYLS06_"
      },
      "execution_count": null,
      "outputs": []
    },
    {
      "cell_type": "markdown",
      "source": [
        "###Split dataset\n"
      ],
      "metadata": {
        "id": "KCfo8OeSTQoK"
      }
    },
    {
      "cell_type": "code",
      "source": [
        "from sklearn.model_selection import train_test_split\n",
        "\n",
        "X_train, X_val, y_train, y_val = train_test_split(data.url.values, \n",
        "                                                  data.id_label.values, \n",
        "                                                  test_size=0.15, \n",
        "                                                  random_state=42)\n",
        "                                                  #stratify=data.id_label.values)"
      ],
      "metadata": {
        "id": "iDeRFsq6TO4J"
      },
      "execution_count": 96,
      "outputs": []
    },
    {
      "cell_type": "code",
      "source": [
        "print(X_train)\n",
        "print(y_train.size)"
      ],
      "metadata": {
        "id": "gK2GNUZJTh53"
      },
      "execution_count": null,
      "outputs": []
    },
    {
      "cell_type": "markdown",
      "source": [
        "###Tokenization\n"
      ],
      "metadata": {
        "id": "_6HmzzTaUFGW"
      }
    },
    {
      "cell_type": "code",
      "source": [
        "!pip install transformers"
      ],
      "metadata": {
        "id": "qbuxSM3xUJoB"
      },
      "execution_count": null,
      "outputs": []
    },
    {
      "cell_type": "code",
      "source": [
        "from transformers import BertTokenizer, TFBertModel\n",
        "tz = BertTokenizer.from_pretrained(\"bert-base-uncased\")"
      ],
      "metadata": {
        "id": "OMAfz3DbUZLO"
      },
      "execution_count": null,
      "outputs": []
    },
    {
      "cell_type": "code",
      "source": [
        "import tensorflow as tf\n",
        "tf.test.is_gpu_available()"
      ],
      "metadata": {
        "id": "Gp0mWgh0ccHi"
      },
      "execution_count": null,
      "outputs": []
    },
    {
      "cell_type": "code",
      "source": [
        "#embedding_matrix = model.embeddings.word_embeddings.weight"
      ],
      "metadata": {
        "id": "m8DSQ92OErij"
      },
      "execution_count": null,
      "outputs": []
    },
    {
      "cell_type": "code",
      "source": [
        "#example of tokenizer\n",
        "tz.tokenize(X_train[1])\n",
        "tz.convert_tokens_to_ids(tz.tokenize(X_train[1]))"
      ],
      "metadata": {
        "id": "2VnTtsTjj8yM"
      },
      "execution_count": null,
      "outputs": []
    },
    {
      "cell_type": "code",
      "source": [
        "#٫٫٫٫\n",
        "encoded_data_train = tz.batch_encode_plus(\n",
        "    X_train, \n",
        "    padding='max_length', \n",
        "    return_attention_mask=True, \n",
        "    pad_to_max_length=True, \n",
        "    max_length=256, \n",
        "    return_tensors='tf'\n",
        ")"
      ],
      "metadata": {
        "id": "P2gkdl_fXzUj"
      },
      "execution_count": null,
      "outputs": []
    },
    {
      "cell_type": "code",
      "source": [
        "encoded_data_train = tz.batch_encode_plus(\n",
        "    X_train, \n",
        "    add_special_tokens=True, \n",
        "    return_attention_mask=True, \n",
        "    pad_to_max_length=True, \n",
        "    max_length=256, \n",
        "    return_tensors='tf'\n",
        ")\n",
        "input_ids_train = encoded_data_train['input_ids']\n",
        "attention_masks_train = encoded_data_train['attention_mask']"
      ],
      "metadata": {
        "id": "Wtry_DH8X5hN"
      },
      "execution_count": null,
      "outputs": []
    }
  ]
}