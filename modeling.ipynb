{
 "cells": [
  {
   "cell_type": "markdown",
   "metadata": {},
   "source": [
    "#### Lable extraction from the topic"
   ]
  },
  {
   "cell_type": "code",
   "execution_count": 14,
   "metadata": {},
   "outputs": [],
   "source": [
    "topic = [('apotheek', 315.3411006614167), ('baseren', 313.01469168994277), ('adviseur', 298.145294060778), ('geboortedatum', 236.94831722998168), ('actieplan', 229.14648935416344), ('aanvankelijk', 214.81888379817494), ('decembren', 204.9080570504882), ('liren', 202.84076000253157), ('bekomen', 201.01312675729298), ('afwijkingsregeling', 186.6973920818723)]"
   ]
  },
  {
   "cell_type": "code",
   "execution_count": null,
   "metadata": {},
   "outputs": [],
   "source": [
    "def label_extraction(topic):\n",
    "    for i, item in enumerate(topic):\n",
    "        return ('index', i,'item', item, 'tuple', topic[i])"
   ]
  },
  {
   "cell_type": "code",
   "execution_count": null,
   "metadata": {},
   "outputs": [],
   "source": [
    "def label_extract(topic):\n",
    "    i = 0\n",
    "    while i < len(topic):\n",
    "        print('index', i, 'value', topic[i], 'tuple value', topic[i])\n",
    "        i += 1"
   ]
  }
 ],
 "metadata": {
  "interpreter": {
   "hash": "b18eab118e54f42706821eebd7f89ba4d3b113f2fb39a3328aa78f33c90b7630"
  },
  "kernelspec": {
   "display_name": "Python 3.10.1 ('venv': venv)",
   "language": "python",
   "name": "python3"
  },
  "language_info": {
   "codemirror_mode": {
    "name": "ipython",
    "version": 3
   },
   "file_extension": ".py",
   "mimetype": "text/x-python",
   "name": "python",
   "nbconvert_exporter": "python",
   "pygments_lexer": "ipython3",
   "version": "3.10.1"
  },
  "orig_nbformat": 4
 },
 "nbformat": 4,
 "nbformat_minor": 2
}
