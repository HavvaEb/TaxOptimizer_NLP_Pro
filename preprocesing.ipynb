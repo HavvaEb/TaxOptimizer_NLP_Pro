{
 "cells": [
  {
   "cell_type": "code",
   "execution_count": 3,
   "metadata": {},
   "outputs": [
    {
     "name": "stdout",
     "output_type": "stream",
     "text": [
      "<_io.TextIOWrapper name='F:/TaxOptimizer_NLP_Pro/TaxOptimizer_NLP_Pro/text/url_num_1.txt' mode='r' encoding='cp1256'>\n"
     ]
    }
   ],
   "source": [
    "f = open(r'F:/TaxOptimizer_NLP_Pro/TaxOptimizer_NLP_Pro/text/url_num_1.txt')\n",
    "print(f)"
   ]
  },
  {
   "cell_type": "code",
   "execution_count": null,
   "metadata": {},
   "outputs": [],
   "source": [
    "with open('F:/TaxOptimizer_NLP_Pro/TaxOptimizer_NLP_Pro/text/url_num_1.txt') as f:\n",
    "    contents = f.read()\n",
    "    print(contents)"
   ]
  },
  {
   "cell_type": "code",
   "execution_count": null,
   "metadata": {},
   "outputs": [],
   "source": [
    "#method 1 to read the text lines\n",
    "with open('F:/TaxOptimizer_NLP_Pro/TaxOptimizer_NLP_Pro/text/url_num_1.txt') as f:\n",
    "    while True:\n",
    "        line = f.readline()\n",
    "        if not line: \n",
    "            break\n",
    "        print(line) "
   ]
  },
  {
   "cell_type": "code",
   "execution_count": null,
   "metadata": {},
   "outputs": [],
   "source": [
    "#method 2 to read the text lines\n",
    "with open('F:/TaxOptimizer_NLP_Pro/TaxOptimizer_NLP_Pro/text/url_num_1.txt') as f:\n",
    "    for line in f:\n",
    "        print(line)"
   ]
  }
 ],
 "metadata": {
  "interpreter": {
   "hash": "df92163211a0df6f7beb2c4dbc6a36ea0e4ae8d51fa2d0215717c10951f47222"
  },
  "kernelspec": {
   "display_name": "Python 3.10.2 64-bit",
   "language": "python",
   "name": "python3"
  },
  "language_info": {
   "codemirror_mode": {
    "name": "ipython",
    "version": 3
   },
   "file_extension": ".py",
   "mimetype": "text/x-python",
   "name": "python",
   "nbconvert_exporter": "python",
   "pygments_lexer": "ipython3",
   "version": "3.10.2"
  },
  "orig_nbformat": 4
 },
 "nbformat": 4,
 "nbformat_minor": 2
}
